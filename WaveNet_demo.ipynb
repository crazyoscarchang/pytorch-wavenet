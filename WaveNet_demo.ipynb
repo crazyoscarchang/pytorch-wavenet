{
 "cells": [
  {
   "cell_type": "markdown",
   "metadata": {},
   "source": [
    "This is notebook gives a quick overview of this WaveNet implementation, i.e. creating the model and the data set, training the model and generating samples from it."
   ]
  },
  {
   "cell_type": "code",
   "execution_count": 1,
   "metadata": {},
   "outputs": [],
   "source": [
    "import torch\n",
    "from wavenet_model import *\n",
    "from audio_data import WavenetDataset\n",
    "from wavenet_training import *\n",
    "from model_logging import *"
   ]
  },
  {
   "cell_type": "markdown",
   "metadata": {},
   "source": [
    "## Model\n",
    "This is an implementation of WaveNet as it was described in the original paper (https://arxiv.org/abs/1609.03499). Each layer looks like this:\n",
    "\n",
    "```\n",
    "            |----------------------------------------|      *residual*\n",
    "            |                                        |\n",
    "            |    |-- conv -- tanh --|                |\n",
    " -> dilate -|----|                  * ----|-- 1x1 -- + -->  *input*\n",
    "                 |-- conv -- sigm --|     |\n",
    "                                         1x1\n",
    "                                          |\n",
    " ---------------------------------------> + ------------->  *skip*\n",
    "```\n",
    "\n",
    "Each layer dilates the input by a factor of two. After each block the dilation is reset and start from one. You can define the number of layers in each block (``layers``) and the number of blocks (``blocks``). The blocks are followed by two 1x1 convolutions and a softmax output function.\n",
    "Because of the dilation operation, the independent output for multiple successive samples can be calculated efficiently. With ``output_length``, you can define the number these outputs. Empirically, it seems that a large number of skip channels is required."
   ]
  },
  {
   "cell_type": "code",
   "execution_count": 2,
   "metadata": {},
   "outputs": [
    {
     "name": "stdout",
     "output_type": "stream",
     "text": [
      "use gpu\n"
     ]
    }
   ],
   "source": [
    "# initialize cuda option\n",
    "dtype = torch.FloatTensor # data type\n",
    "ltype = torch.LongTensor # label type\n",
    "\n",
    "use_cuda = torch.cuda.is_available()\n",
    "if use_cuda:\n",
    "    print('use gpu')\n",
    "    dtype = torch.cuda.FloatTensor\n",
    "    ltype = torch.cuda.LongTensor"
   ]
  },
  {
   "cell_type": "code",
   "execution_count": 3,
   "metadata": {},
   "outputs": [
    {
     "name": "stdout",
     "output_type": "stream",
     "text": [
      "model:  WaveNetModel(\n",
      "  (filter_convs): ModuleList(\n",
      "    (0): Conv1d(32, 32, kernel_size=(2,), stride=(1,))\n",
      "    (1): Conv1d(32, 32, kernel_size=(2,), stride=(1,))\n",
      "    (2): Conv1d(32, 32, kernel_size=(2,), stride=(1,))\n",
      "    (3): Conv1d(32, 32, kernel_size=(2,), stride=(1,))\n",
      "    (4): Conv1d(32, 32, kernel_size=(2,), stride=(1,))\n",
      "    (5): Conv1d(32, 32, kernel_size=(2,), stride=(1,))\n",
      "    (6): Conv1d(32, 32, kernel_size=(2,), stride=(1,))\n",
      "    (7): Conv1d(32, 32, kernel_size=(2,), stride=(1,))\n",
      "    (8): Conv1d(32, 32, kernel_size=(2,), stride=(1,))\n",
      "    (9): Conv1d(32, 32, kernel_size=(2,), stride=(1,))\n",
      "    (10): Conv1d(32, 32, kernel_size=(2,), stride=(1,))\n",
      "    (11): Conv1d(32, 32, kernel_size=(2,), stride=(1,))\n",
      "    (12): Conv1d(32, 32, kernel_size=(2,), stride=(1,))\n",
      "    (13): Conv1d(32, 32, kernel_size=(2,), stride=(1,))\n",
      "    (14): Conv1d(32, 32, kernel_size=(2,), stride=(1,))\n",
      "    (15): Conv1d(32, 32, kernel_size=(2,), stride=(1,))\n",
      "    (16): Conv1d(32, 32, kernel_size=(2,), stride=(1,))\n",
      "    (17): Conv1d(32, 32, kernel_size=(2,), stride=(1,))\n",
      "    (18): Conv1d(32, 32, kernel_size=(2,), stride=(1,))\n",
      "    (19): Conv1d(32, 32, kernel_size=(2,), stride=(1,))\n",
      "    (20): Conv1d(32, 32, kernel_size=(2,), stride=(1,))\n",
      "    (21): Conv1d(32, 32, kernel_size=(2,), stride=(1,))\n",
      "    (22): Conv1d(32, 32, kernel_size=(2,), stride=(1,))\n",
      "    (23): Conv1d(32, 32, kernel_size=(2,), stride=(1,))\n",
      "    (24): Conv1d(32, 32, kernel_size=(2,), stride=(1,))\n",
      "    (25): Conv1d(32, 32, kernel_size=(2,), stride=(1,))\n",
      "    (26): Conv1d(32, 32, kernel_size=(2,), stride=(1,))\n",
      "    (27): Conv1d(32, 32, kernel_size=(2,), stride=(1,))\n",
      "    (28): Conv1d(32, 32, kernel_size=(2,), stride=(1,))\n",
      "    (29): Conv1d(32, 32, kernel_size=(2,), stride=(1,))\n",
      "  )\n",
      "  (gate_convs): ModuleList(\n",
      "    (0): Conv1d(32, 32, kernel_size=(2,), stride=(1,))\n",
      "    (1): Conv1d(32, 32, kernel_size=(2,), stride=(1,))\n",
      "    (2): Conv1d(32, 32, kernel_size=(2,), stride=(1,))\n",
      "    (3): Conv1d(32, 32, kernel_size=(2,), stride=(1,))\n",
      "    (4): Conv1d(32, 32, kernel_size=(2,), stride=(1,))\n",
      "    (5): Conv1d(32, 32, kernel_size=(2,), stride=(1,))\n",
      "    (6): Conv1d(32, 32, kernel_size=(2,), stride=(1,))\n",
      "    (7): Conv1d(32, 32, kernel_size=(2,), stride=(1,))\n",
      "    (8): Conv1d(32, 32, kernel_size=(2,), stride=(1,))\n",
      "    (9): Conv1d(32, 32, kernel_size=(2,), stride=(1,))\n",
      "    (10): Conv1d(32, 32, kernel_size=(2,), stride=(1,))\n",
      "    (11): Conv1d(32, 32, kernel_size=(2,), stride=(1,))\n",
      "    (12): Conv1d(32, 32, kernel_size=(2,), stride=(1,))\n",
      "    (13): Conv1d(32, 32, kernel_size=(2,), stride=(1,))\n",
      "    (14): Conv1d(32, 32, kernel_size=(2,), stride=(1,))\n",
      "    (15): Conv1d(32, 32, kernel_size=(2,), stride=(1,))\n",
      "    (16): Conv1d(32, 32, kernel_size=(2,), stride=(1,))\n",
      "    (17): Conv1d(32, 32, kernel_size=(2,), stride=(1,))\n",
      "    (18): Conv1d(32, 32, kernel_size=(2,), stride=(1,))\n",
      "    (19): Conv1d(32, 32, kernel_size=(2,), stride=(1,))\n",
      "    (20): Conv1d(32, 32, kernel_size=(2,), stride=(1,))\n",
      "    (21): Conv1d(32, 32, kernel_size=(2,), stride=(1,))\n",
      "    (22): Conv1d(32, 32, kernel_size=(2,), stride=(1,))\n",
      "    (23): Conv1d(32, 32, kernel_size=(2,), stride=(1,))\n",
      "    (24): Conv1d(32, 32, kernel_size=(2,), stride=(1,))\n",
      "    (25): Conv1d(32, 32, kernel_size=(2,), stride=(1,))\n",
      "    (26): Conv1d(32, 32, kernel_size=(2,), stride=(1,))\n",
      "    (27): Conv1d(32, 32, kernel_size=(2,), stride=(1,))\n",
      "    (28): Conv1d(32, 32, kernel_size=(2,), stride=(1,))\n",
      "    (29): Conv1d(32, 32, kernel_size=(2,), stride=(1,))\n",
      "  )\n",
      "  (residual_convs): ModuleList(\n",
      "    (0): Conv1d(32, 32, kernel_size=(1,), stride=(1,))\n",
      "    (1): Conv1d(32, 32, kernel_size=(1,), stride=(1,))\n",
      "    (2): Conv1d(32, 32, kernel_size=(1,), stride=(1,))\n",
      "    (3): Conv1d(32, 32, kernel_size=(1,), stride=(1,))\n",
      "    (4): Conv1d(32, 32, kernel_size=(1,), stride=(1,))\n",
      "    (5): Conv1d(32, 32, kernel_size=(1,), stride=(1,))\n",
      "    (6): Conv1d(32, 32, kernel_size=(1,), stride=(1,))\n",
      "    (7): Conv1d(32, 32, kernel_size=(1,), stride=(1,))\n",
      "    (8): Conv1d(32, 32, kernel_size=(1,), stride=(1,))\n",
      "    (9): Conv1d(32, 32, kernel_size=(1,), stride=(1,))\n",
      "    (10): Conv1d(32, 32, kernel_size=(1,), stride=(1,))\n",
      "    (11): Conv1d(32, 32, kernel_size=(1,), stride=(1,))\n",
      "    (12): Conv1d(32, 32, kernel_size=(1,), stride=(1,))\n",
      "    (13): Conv1d(32, 32, kernel_size=(1,), stride=(1,))\n",
      "    (14): Conv1d(32, 32, kernel_size=(1,), stride=(1,))\n",
      "    (15): Conv1d(32, 32, kernel_size=(1,), stride=(1,))\n",
      "    (16): Conv1d(32, 32, kernel_size=(1,), stride=(1,))\n",
      "    (17): Conv1d(32, 32, kernel_size=(1,), stride=(1,))\n",
      "    (18): Conv1d(32, 32, kernel_size=(1,), stride=(1,))\n",
      "    (19): Conv1d(32, 32, kernel_size=(1,), stride=(1,))\n",
      "    (20): Conv1d(32, 32, kernel_size=(1,), stride=(1,))\n",
      "    (21): Conv1d(32, 32, kernel_size=(1,), stride=(1,))\n",
      "    (22): Conv1d(32, 32, kernel_size=(1,), stride=(1,))\n",
      "    (23): Conv1d(32, 32, kernel_size=(1,), stride=(1,))\n",
      "    (24): Conv1d(32, 32, kernel_size=(1,), stride=(1,))\n",
      "    (25): Conv1d(32, 32, kernel_size=(1,), stride=(1,))\n",
      "    (26): Conv1d(32, 32, kernel_size=(1,), stride=(1,))\n",
      "    (27): Conv1d(32, 32, kernel_size=(1,), stride=(1,))\n",
      "    (28): Conv1d(32, 32, kernel_size=(1,), stride=(1,))\n",
      "    (29): Conv1d(32, 32, kernel_size=(1,), stride=(1,))\n",
      "  )\n",
      "  (skip_convs): ModuleList(\n",
      "    (0): Conv1d(32, 1024, kernel_size=(1,), stride=(1,))\n",
      "    (1): Conv1d(32, 1024, kernel_size=(1,), stride=(1,))\n",
      "    (2): Conv1d(32, 1024, kernel_size=(1,), stride=(1,))\n",
      "    (3): Conv1d(32, 1024, kernel_size=(1,), stride=(1,))\n",
      "    (4): Conv1d(32, 1024, kernel_size=(1,), stride=(1,))\n",
      "    (5): Conv1d(32, 1024, kernel_size=(1,), stride=(1,))\n",
      "    (6): Conv1d(32, 1024, kernel_size=(1,), stride=(1,))\n",
      "    (7): Conv1d(32, 1024, kernel_size=(1,), stride=(1,))\n",
      "    (8): Conv1d(32, 1024, kernel_size=(1,), stride=(1,))\n",
      "    (9): Conv1d(32, 1024, kernel_size=(1,), stride=(1,))\n",
      "    (10): Conv1d(32, 1024, kernel_size=(1,), stride=(1,))\n",
      "    (11): Conv1d(32, 1024, kernel_size=(1,), stride=(1,))\n",
      "    (12): Conv1d(32, 1024, kernel_size=(1,), stride=(1,))\n",
      "    (13): Conv1d(32, 1024, kernel_size=(1,), stride=(1,))\n",
      "    (14): Conv1d(32, 1024, kernel_size=(1,), stride=(1,))\n",
      "    (15): Conv1d(32, 1024, kernel_size=(1,), stride=(1,))\n",
      "    (16): Conv1d(32, 1024, kernel_size=(1,), stride=(1,))\n",
      "    (17): Conv1d(32, 1024, kernel_size=(1,), stride=(1,))\n",
      "    (18): Conv1d(32, 1024, kernel_size=(1,), stride=(1,))\n",
      "    (19): Conv1d(32, 1024, kernel_size=(1,), stride=(1,))\n",
      "    (20): Conv1d(32, 1024, kernel_size=(1,), stride=(1,))\n",
      "    (21): Conv1d(32, 1024, kernel_size=(1,), stride=(1,))\n",
      "    (22): Conv1d(32, 1024, kernel_size=(1,), stride=(1,))\n",
      "    (23): Conv1d(32, 1024, kernel_size=(1,), stride=(1,))\n",
      "    (24): Conv1d(32, 1024, kernel_size=(1,), stride=(1,))\n",
      "    (25): Conv1d(32, 1024, kernel_size=(1,), stride=(1,))\n",
      "    (26): Conv1d(32, 1024, kernel_size=(1,), stride=(1,))\n",
      "    (27): Conv1d(32, 1024, kernel_size=(1,), stride=(1,))\n",
      "    (28): Conv1d(32, 1024, kernel_size=(1,), stride=(1,))\n",
      "    (29): Conv1d(32, 1024, kernel_size=(1,), stride=(1,))\n",
      "  )\n",
      "  (start_conv): Conv1d(256, 32, kernel_size=(1,), stride=(1,))\n",
      "  (end_conv_1): Conv1d(1024, 512, kernel_size=(1,), stride=(1,))\n",
      "  (end_conv_2): Conv1d(512, 256, kernel_size=(1,), stride=(1,))\n",
      ")\n",
      "receptive field:  3070\n",
      "parameter count:  1834592\n"
     ]
    }
   ],
   "source": [
    "model = WaveNetModel(layers=10,\n",
    "                     blocks=3,\n",
    "                     dilation_channels=32,\n",
    "                     residual_channels=32,\n",
    "                     skip_channels=1024,\n",
    "                     end_channels=512, \n",
    "                     output_length=16,\n",
    "                     dtype=dtype, \n",
    "                     bias=True)\n",
    "# model = load_latest_model_from('snapshots', use_cuda=use_cuda)\n",
    "\n",
    "print('model: ', model)\n",
    "print('receptive field: ', model.receptive_field)\n",
    "print('parameter count: ', model.parameter_count())"
   ]
  },
  {
   "cell_type": "code",
   "execution_count": 4,
   "metadata": {},
   "outputs": [],
   "source": [
    "if use_cuda:\n",
    "    model.cuda()"
   ]
  },
  {
   "cell_type": "markdown",
   "metadata": {},
   "source": [
    "## Data Set\n",
    "To create the data set, you have to specify a path to a data set file. If this file already exists it will be used, if not it will be generated. If you want to generate the data set file (a ``.npz`` file), you have to specify the directory (``file_location``) in which all the audio files you want to use are located. The attribute ``target_length`` specifies the number of successive samples are used as a target and corresponds to the output length of the model. The ``item_length`` defines the number of samples in each item of the dataset and should always be ``model.receptive_field + model.output_length - 1``.\n",
    "\n",
    "```\n",
    "          |----receptive_field----|\n",
    "                                |--output_length--|\n",
    "example:  | | | | | | | | | | | | | | | | | | | | |\n",
    "target:                           | | | | | | | | | |  \n",
    "```\n",
    "To create a test set, you should define a ``test_stride``. Then each ``test_stride``th item will be assigned to the test set."
   ]
  },
  {
   "cell_type": "code",
   "execution_count": 5,
   "metadata": {},
   "outputs": [
    {
     "name": "stdout",
     "output_type": "stream",
     "text": [
      "one hot input\n",
      "the dataset has 598277 items\n"
     ]
    }
   ],
   "source": [
    "data = WavenetDataset(dataset_file='train_samples/bach_chaconne/dataset.npz',\n",
    "                      item_length=model.receptive_field + model.output_length - 1,\n",
    "                      target_length=model.output_length,\n",
    "                      file_location='train_samples/bach_chaconne',\n",
    "                      test_stride=500)\n",
    "print('the dataset has ' + str(len(data)) + ' items')"
   ]
  },
  {
   "cell_type": "markdown",
   "metadata": {},
   "source": [
    "## Training and Logging\n",
    "This implementation supports logging with TensorBoard (you need to have TensorFlow installed). You can even generate audio samples from the current snapshot of the model during training. This will happen in a background thread on the cpu, so it will not interfere with the actual training but will be rather slow. If you don't have TensorFlow, you can use the standard logger that will print out to the console.\n",
    "The trainer uses Adam as default optimizer."
   ]
  },
  {
   "cell_type": "code",
   "execution_count": 6,
   "metadata": {},
   "outputs": [],
   "source": [
    "def generate_and_log_samples(step):\n",
    "    sample_length=32000\n",
    "    gen_model = load_latest_model_from('snapshots', use_cuda=False)\n",
    "    print(\"start generating...\")\n",
    "    samples = generate_audio(gen_model,\n",
    "                             length=sample_length,\n",
    "                             temperatures=[0.5])\n",
    "    tf_samples = tf.convert_to_tensor(samples, dtype=tf.float32)\n",
    "    logger.audio_summary('temperature_0.5', tf_samples, step, sr=16000)\n",
    "\n",
    "    samples = generate_audio(gen_model,\n",
    "                             length=sample_length,\n",
    "                             temperatures=[1.])\n",
    "    tf_samples = tf.convert_to_tensor(samples, dtype=tf.float32)\n",
    "    logger.audio_summary('temperature_1.0', tf_samples, step, sr=16000)\n",
    "    print(\"audio clips generated\")\n",
    "\n",
    "\n",
    "logger = TensorboardLogger(log_interval=1,\n",
    "                           validation_interval=1,\n",
    "                           generate_interval=1000,\n",
    "                           generate_function=generate_and_log_samples,\n",
    "                           log_dir=\"logs/chaconne_model\")\n",
    "\n",
    "# logger = Logger(log_interval=200,\n",
    "#                 validation_interval=400,\n",
    "#                 generate_interval=1000)"
   ]
  },
  {
   "cell_type": "code",
   "execution_count": 7,
   "metadata": {},
   "outputs": [
    {
     "name": "stdout",
     "output_type": "stream",
     "text": [
      "start training...\n",
      "loss at step 0 : 5.55\n",
      "loss at step 10 : 4.77\n",
      "loss at step 20 : 4.70\n",
      "loss at step 30 : 4.51\n",
      "loss at step 40 : 2.84\n",
      "loss at step 50 : 0.19\n",
      "loss at step 60 : 0.00\n",
      "loss at step 70 : 0.00\n",
      "loss at step 80 : 0.00\n",
      "loss at step 90 : 0.00\n",
      "loss at step 100 : 0.00\n",
      "loss at step 110 : 0.00\n",
      "loss at step 120 : 0.00\n",
      "loss at step 130 : 0.00\n",
      "loss at step 140 : 0.00\n",
      "loss at step 150 : 0.00\n",
      "loss at step 160 : 0.00\n",
      "loss at step 170 : 0.00\n",
      "loss at step 180 : 0.00\n",
      "loss at step 190 : 0.00\n"
     ]
    }
   ],
   "source": [
    "trainer = WavenetTrainer(model=model,\n",
    "                         dataset=data,\n",
    "                         lr=0.001,\n",
    "                         snapshot_path='snapshots',\n",
    "                         snapshot_name='chaconne_model',\n",
    "                         snapshot_interval=1000,\n",
    "                         logger=logger,\n",
    "                         dtype=dtype,\n",
    "                         ltype=ltype)\n",
    "\n",
    "print('start training...')\n",
    "trainer.train(batch_size=16,\n",
    "              epochs=10)"
   ]
  },
  {
   "cell_type": "markdown",
   "metadata": {},
   "source": [
    "## Generating\n",
    "This model has the Fast Wavenet Generation Algorithm (https://arxiv.org/abs/1611.09482) implemented. This might run faster on the cpu. You can give some starting data (of at least the length of receptive field) or let the model generate from zero. In my experience, a temperature between 0.5 and 1.0 yields the best results, but this may depend on the data set."
   ]
  },
  {
   "cell_type": "code",
   "execution_count": 9,
   "metadata": {},
   "outputs": [],
   "source": [
    "model.cpu()"
   ]
  },
  {
   "cell_type": "code",
   "execution_count": 11,
   "metadata": {},
   "outputs": [
    {
     "name": "stdout",
     "output_type": "stream",
     "text": [
      "0% generated\n",
      "5% generated\n",
      "10% generated\n",
      "15% generated\n",
      "one generating step does take approximately 0.01212064266204834 seconds)\n",
      "20% generated\n",
      "26% generated\n",
      "31% generated\n",
      "36% generated\n",
      "41% generated\n",
      "47% generated\n",
      "52% generated\n",
      "57% generated\n",
      "62% generated\n",
      "68% generated\n",
      "73% generated\n",
      "78% generated\n",
      "83% generated\n",
      "89% generated\n",
      "94% generated\n",
      "99% generated\n"
     ]
    }
   ],
   "source": [
    "start_data = data[250000][0] # use start data from the data set\n",
    "start_data = torch.max(start_data, 0)[1] # convert one hot vectors to integers\n",
    "\n",
    "def prog_callback(step, total_steps):\n",
    "    print(str(100 * step // total_steps) + \"% generated\")\n",
    "\n",
    "generated = model.generate_fast(num_samples=16000,\n",
    "                                 first_samples=start_data,\n",
    "                                 progress_callback=prog_callback,\n",
    "                                 progress_interval=1000,\n",
    "                                 temperature=1.0,\n",
    "                                 regularize=0.)"
   ]
  },
  {
   "cell_type": "code",
   "execution_count": 12,
   "metadata": {},
   "outputs": [
    {
     "data": {
      "text/html": [
       "\n",
       "                <audio controls=\"controls\" >\n",
       "                    <source src=\"data:audio/wav;base64,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\" type=\"audio/wav\" />\n",
       "                    Your browser does not support the audio element.\n",
       "                </audio>\n",
       "              "
      ],
      "text/plain": [
       "<IPython.lib.display.Audio object>"
      ]
     },
     "execution_count": 12,
     "metadata": {},
     "output_type": "execute_result"
    }
   ],
   "source": [
    "import IPython.display as ipd\n",
    "\n",
    "ipd.Audio(generated, rate=16000)"
   ]
  }
 ],
 "metadata": {
  "anaconda-cloud": {},
  "kernelspec": {
   "display_name": "Python 3",
   "language": "python",
   "name": "python3"
  },
  "language_info": {
   "codemirror_mode": {
    "name": "ipython",
    "version": 3
   },
   "file_extension": ".py",
   "mimetype": "text/x-python",
   "name": "python",
   "nbconvert_exporter": "python",
   "pygments_lexer": "ipython3",
   "version": "3.5.2"
  }
 },
 "nbformat": 4,
 "nbformat_minor": 1
}
