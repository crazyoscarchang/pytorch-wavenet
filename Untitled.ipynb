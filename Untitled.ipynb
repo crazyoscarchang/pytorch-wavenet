{
 "cells": [
  {
   "cell_type": "code",
   "execution_count": 15,
   "metadata": {},
   "outputs": [],
   "source": [
    "import glob\n",
    "import numpy as np\n",
    "from scipy.io import wavfile\n",
    "import torch\n",
    "from torch.utils.data import Dataset\n",
    "from utils import bin_and_one_hot"
   ]
  },
  {
   "cell_type": "code",
   "execution_count": 16,
   "metadata": {},
   "outputs": [],
   "source": [
    "class WaveNetDataSet(Dataset):\n",
    "    def __init__(self, audio_dir, num_frames_input, num_frames_output):\n",
    "        \"\"\"\n",
    "        Assume we have a directory audio_dir, containing wav files as our dataset\n",
    "        \"\"\"\n",
    "        self.data = glob.glob(audio_dir + \"/*.wav\")\n",
    "        self.num_frames_input = num_frames_input\n",
    "        self.num_frames_output = num_frames_output\n",
    "        self.len_subset = num_frames_input + num_frames_output\n",
    "        \n",
    "    def __len__(self):\n",
    "        return len(self.data)\n",
    "    \n",
    "    def __getitem__(self, idx):\n",
    "        fname = self.data[idx]\n",
    "        frequency, data = wavfile.read(fname)\n",
    "        random_start = np.random.randint(0, len(data) - self.len_subset)\n",
    "        subset = data[random_start:random_start + self.len_subset]\n",
    "        x = subset[: self.num_frames_input]\n",
    "        y = subset[self.num_frames_input: self.num_frames_input + self.num_frames_output]\n",
    "        return torch.from_numpy(x), torch.from_numpy(y)"
   ]
  },
  {
   "cell_type": "code",
   "execution_count": 17,
   "metadata": {},
   "outputs": [],
   "source": [
    "dset = WaveNetDataSet(\"./data\", 10, 1)"
   ]
  },
  {
   "cell_type": "code",
   "execution_count": 24,
   "metadata": {},
   "outputs": [
    {
     "data": {
      "text/plain": [
       "(\n",
       " -357\n",
       " -409\n",
       " -412\n",
       " -383\n",
       " -362\n",
       " -379\n",
       " -376\n",
       " -398\n",
       " -375\n",
       " -339\n",
       " [torch.ShortTensor of size 10], \n",
       " -327\n",
       " [torch.ShortTensor of size 1])"
      ]
     },
     "execution_count": 24,
     "metadata": {},
     "output_type": "execute_result"
    }
   ],
   "source": [
    "dset[1]"
   ]
  }
 ],
 "metadata": {
  "kernelspec": {
   "display_name": "Python 3",
   "language": "python",
   "name": "python3"
  },
  "language_info": {
   "codemirror_mode": {
    "name": "ipython",
    "version": 3
   },
   "file_extension": ".py",
   "mimetype": "text/x-python",
   "name": "python",
   "nbconvert_exporter": "python",
   "pygments_lexer": "ipython3",
   "version": "3.6.4"
  }
 },
 "nbformat": 4,
 "nbformat_minor": 2
}
